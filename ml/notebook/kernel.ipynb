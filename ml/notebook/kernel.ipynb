{
 "cells": [
  {
   "cell_type": "markdown",
   "metadata": {
    "_uuid": "5f89fb1a64f63d3cb1845778718e695d2e5e3c2f"
   },
   "source": [
    "# Quora Insincere Questions Classification (Kaggle)"
   ]
  },
  {
   "cell_type": "markdown",
   "metadata": {
    "_uuid": "165162c4c8adebaf5fc9b86e85a0eff988fa0c07"
   },
   "source": [
    "<img src=\"https://qph.fs.quoracdn.net/main-qimg-416e6107aed22920d238a91f3bae6681\" width=\"250px\" alt=\"Quora Logo\">"
   ]
  },
  {
   "cell_type": "markdown",
   "metadata": {
    "_uuid": "25d3103dfb31b81013fa4a3ca8b07f2614071896"
   },
   "source": [
    "## Table Of Contents:\n1. [Challenge Description](#Challenge-Description)\n2. [Data Files Description](#Data-Files-Description)\n3. [Import necessary libraries](#Import-necessary-libraries)\n4. [File Paths](#File-Paths)\n5. [Helper Methods](#Helper-Methods)\n6. [Data Wrangling](#Data-Wrangling)\n7. [Data Preprocessing](#Data-Preprocessing)\n8. [Exploratory Data Analysis (EDA)](#Exploratory-Data-Analysis)\n9. [Feature Engineering](#Feature-Engineering)\n10. [Baseline Model](#Baseline-Model)\n11. [Hyper-Parameter Tuning](#Hyper-Parameter-Tuning)\n12. [Submission](#Submission)"
   ]
  },
  {
   "cell_type": "markdown",
   "metadata": {
    "_uuid": "febd1b97429e5997ce01b18f25d70947fb7887b6"
   },
   "source": [
    "### Challenge Description\n\nIn this challenge, we have to train a model which is able to detect if a given question in insincere or not. The model should be able if the question is a statement rather than a question that if answered will provide benefit to Quora's online community. We will implement and compare various model and finally pick the highest performing one and deploy it on a live instance."
   ]
  },
  {
   "cell_type": "markdown",
   "metadata": {
    "_uuid": "1e72d87fff6af42c36b35a50af5703c1e15443b6"
   },
   "source": [
    "### Data Files Description\n\nValue to be predicted: *loyalty score* for each *card_id*\n\nData files:\n* **train.csv**: Contains the training data\n* **test.csv**: Contains the testing data\n* **embeddings.zip**: A set of already existing embeddings for this project"
   ]
  },
  {
   "cell_type": "markdown",
   "metadata": {
    "_uuid": "445677aec882614fdcf5e33c8c3bce80462a1122"
   },
   "source": [
    "### Import necessary libraries"
   ]
  },
  {
   "cell_type": "code",
   "execution_count": null,
   "metadata": {
    "trusted": true,
    "_uuid": "c51e71216669186f8fbab180cb0b07cb66ff505a"
   },
   "outputs": [],
   "source": [
    "import pandas as pd\n",
    "import numpy as np\n",
    "import matplotlib.pyplot as plt\n",
    "import seaborn as sns\n",
    "%matplotlib inline"
   ]
  },
  {
   "cell_type": "markdown",
   "metadata": {
    "_uuid": "dbb4282c349d40ef1dd3e22eceaefb5028e44356"
   },
   "source": [
    "### File Paths"
   ]
  },
  {
   "cell_type": "code",
   "execution_count": null,
   "metadata": {
    "trusted": true,
    "_uuid": "c73b0d56a143137e5cdb3e4f0f7901ffc0987fb4"
   },
   "outputs": [],
   "source": [
    "DATA_DIR = \"input/\"\n",
    "TRAIN_SAMPLES = DATA_DIR+\"train.csv\"\n",
    "TEST_SAMPLES = DATA_DIR+\"test.csv\"\n",
    "EMBD_SAMPLES = DATA_DIR+\"embeddings.zip\"\n",
    "SUBMISSION_FILE = DATA_DIR+\"submission.csv\""
   ]
  },
  {
   "cell_type": "markdown",
   "metadata": {
    "_uuid": "f467191eecaaee9b4d99c6cd9e44329448c3da37"
   },
   "source": [
    "### Helper Methods"
   ]
  },
  {
   "cell_type": "code",
   "execution_count": null,
   "metadata": {
    "trusted": false,
    "_uuid": "d7670080c67178cbb698ce77a08ae11159a20198"
   },
   "outputs": [],
   "source": [
    "def load_data(filepath):\n",
    "    \"\"\"Loads the data into the memory.\n",
    "    \n",
    "    Loads the data into memory. Parses them into\n",
    "    a pandas Dataframe.\n",
    "    \n",
    "    Args:\n",
    "        filepath: The path to the file\n",
    "    \n",
    "    Returns:\n",
    "        a pandas Dataframe with the contents of the\n",
    "        file\n",
    "    \"\"\"\n",
    "    return pd.read_csv(filepath)"
   ]
  },
  {
   "cell_type": "code",
   "execution_count": null,
   "metadata": {
    "trusted": false,
    "_uuid": "fbadf5656f54add06463c7c89e9c9dfea4ef4e47"
   },
   "outputs": [],
   "source": [
    "def export_submission(res):\n",
    "    \"\"\"Exports the results to a file.\n",
    "    \"\"\"\n",
    "    return df_out"
   ]
  },
  {
   "cell_type": "markdown",
   "metadata": {
    "_uuid": "a385d0a5a872f85110d62202d6656e86d5c9344a"
   },
   "source": [
    "### Data Wrangling"
   ]
  },
  {
   "cell_type": "code",
   "execution_count": null,
   "metadata": {
    "trusted": false,
    "_uuid": "2b9e67b4a894ac2605c08e2aa084b38551256369"
   },
   "outputs": [],
   "source": [
    "df_train = load_data(TRAIN_SAMPLES)\n",
    "df_test = load_data(TEST_SAMPLES)\n"
   ]
  },
  {
   "cell_type": "markdown",
   "metadata": {
    "_uuid": "0d6cdc957ee471f6130f6f8814db735ba8bf9ec7"
   },
   "source": [
    "### Data Preprocessing"
   ]
  },
  {
   "cell_type": "code",
   "execution_count": null,
   "metadata": {
    "trusted": false,
    "_uuid": "601d6cf87bb396237b02095e6d9678c8fe802e58"
   },
   "outputs": [],
   "source": [
    ""
   ]
  },
  {
   "cell_type": "markdown",
   "metadata": {
    "_uuid": "9ffb71680e2dbd385ad22d495952e26c35af9ae9"
   },
   "source": [
    "### Exploratory Data Analysis"
   ]
  },
  {
   "cell_type": "code",
   "execution_count": null,
   "metadata": {
    "trusted": false,
    "_uuid": "8c65ee2f52188d237646bb37497117de1f83f86e"
   },
   "outputs": [],
   "source": [
    ""
   ]
  },
  {
   "cell_type": "markdown",
   "metadata": {
    "_uuid": "0b1c46da322aea033550934c675d80d36f20161f"
   },
   "source": [
    "### Feature Engineering"
   ]
  },
  {
   "cell_type": "code",
   "execution_count": null,
   "metadata": {
    "trusted": false,
    "_uuid": "e14507d1b6cbe5eb8877715abfa4913fb4df70f2"
   },
   "outputs": [],
   "source": [
    ""
   ]
  },
  {
   "cell_type": "markdown",
   "metadata": {
    "_uuid": "97db6f0d43c173a754fd6327bf9803aa453ab79d"
   },
   "source": [
    "### Baseline Model"
   ]
  },
  {
   "cell_type": "code",
   "execution_count": null,
   "metadata": {
    "trusted": false,
    "_uuid": "697e3e655fab1d1330ed73dcde2f19f6f41b203f"
   },
   "outputs": [],
   "source": [
    ""
   ]
  },
  {
   "cell_type": "markdown",
   "metadata": {
    "_uuid": "7ae23883c322d49866f47c3c4fec3f3a152f4a98"
   },
   "source": [
    "### Hyper-Parameter Tuning"
   ]
  },
  {
   "cell_type": "code",
   "execution_count": null,
   "metadata": {
    "trusted": false,
    "_uuid": "272a88bed14dcf61ad58ee706b319493434188c6"
   },
   "outputs": [],
   "source": [
    ""
   ]
  },
  {
   "cell_type": "markdown",
   "metadata": {
    "_uuid": "8463a744eab1a4d680b79981d4b9daa907ae7b15"
   },
   "source": [
    "### Submission"
   ]
  },
  {
   "cell_type": "code",
   "execution_count": null,
   "metadata": {
    "trusted": false,
    "_uuid": "1c0ec588a28930242217cb2051f511580d4fa065"
   },
   "outputs": [],
   "source": [
    ""
   ]
  }
 ],
 "metadata": {
  "kernelspec": {
   "display_name": "Python 3",
   "language": "python",
   "name": "python3"
  },
  "language_info": {
   "name": "python",
   "version": "3.6.6",
   "mimetype": "text/x-python",
   "codemirror_mode": {
    "name": "ipython",
    "version": 3
   },
   "pygments_lexer": "ipython3",
   "nbconvert_exporter": "python",
   "file_extension": ".py"
  }
 },
 "nbformat": 4,
 "nbformat_minor": 1
}
